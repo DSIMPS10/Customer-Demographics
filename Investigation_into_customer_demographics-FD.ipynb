{
 "cells": [
  {
   "cell_type": "markdown",
   "metadata": {},
   "source": [
    "# An investigation into customer demographics"
   ]
  },
  {
   "cell_type": "code",
   "execution_count": 1,
   "metadata": {
    "ExecuteTime": {
     "end_time": "2023-07-28T10:49:45.376850Z",
     "start_time": "2023-07-28T10:49:45.353266Z"
    },
    "code_folding": []
   },
   "outputs": [
    {
     "data": {
      "text/html": [
       "<script>\n",
       "code_show=true; \n",
       "function code_toggle() {\n",
       " if (code_show){\n",
       " $('div.input').hide();\n",
       " } else {\n",
       " $('div.input').show();\n",
       " }\n",
       " code_show = !code_show\n",
       "} \n",
       "$( document ).ready(code_toggle);\n",
       "</script>\n",
       "<form action=\"javascript:code_toggle()\"><input type=\"submit\" value=\"Click here to toggle on/off the raw code.\"></form>"
      ],
      "text/plain": [
       "<IPython.core.display.HTML object>"
      ]
     },
     "execution_count": 1,
     "metadata": {},
     "output_type": "execute_result"
    }
   ],
   "source": [
    "from IPython.display import HTML\n",
    "\n",
    "HTML('''<script>\n",
    "code_show=true; \n",
    "function code_toggle() {\n",
    " if (code_show){\n",
    " $('div.input').hide();\n",
    " } else {\n",
    " $('div.input').show();\n",
    " }\n",
    " code_show = !code_show\n",
    "} \n",
    "$( document ).ready(code_toggle);\n",
    "</script>\n",
    "<form action=\"javascript:code_toggle()\"><input type=\"submit\" value=\"Click here to toggle on/off the raw code.\"></form>''')"
   ]
  },
  {
   "cell_type": "code",
   "execution_count": 2,
   "metadata": {
    "ExecuteTime": {
     "end_time": "2023-07-28T10:49:51.826579Z",
     "start_time": "2023-07-28T10:49:45.378610Z"
    },
    "code_folding": []
   },
   "outputs": [
    {
     "name": "stderr",
     "output_type": "stream",
     "text": [
      "<ipython-input-2-95a2d9ac8b52>:3: DeprecationWarning: `import pandas_profiling` is going to be deprecated by April 1st. Please use `import ydata_profiling` instead.\n",
      "  import pandas_profiling\n"
     ]
    }
   ],
   "source": [
    "#Importing libraries\n",
    "import pandas as pd\n",
    "import pandas_profiling\n",
    "import seaborn as sns\n",
    "import matplotlib.pyplot as plt\n",
    "import numpy as np\n",
    "\n",
    "#model metrics\n",
    "from sklearn.metrics import mean_squared_error\n",
    "from sklearn.metrics import r2_score\n",
    "from sklearn.model_selection import cross_val_score\n",
    "from sklearn.datasets import make_classification\n",
    "from sklearn.metrics import confusion_matrix\n",
    "from sklearn.metrics import ConfusionMatrixDisplay\n",
    "from sklearn.metrics import accuracy_score, classification_report\n",
    "\n",
    "from sklearn.model_selection import train_test_split\n",
    "from sklearn.ensemble import RandomForestClassifier, GradientBoostingClassifier\n",
    "from sklearn.tree import DecisionTreeClassifier, DecisionTreeRegressor\n",
    "from sklearn.datasets import load_digits\n",
    "from sklearn.tree import plot_tree\n",
    "\n",
    "from sklearn.discriminant_analysis import LinearDiscriminantAnalysis\n",
    "from sklearn.neighbors import KNeighborsClassifier\n",
    "from sklearn.naive_bayes import GaussianNB\n",
    "from sklearn.svm import SVC\n",
    "\n",
    "%matplotlib inline"
   ]
  },
  {
   "cell_type": "markdown",
   "metadata": {},
   "source": [
    "We are given a dataset of 80,000 customer purchases in an electronic store, Blackwell electronics. This dataset contains 5 variables, whether the purchase was online or in-store, the age of the customer, how many items were purchased, the amount spent and the region the purchase was made.\n",
    "\n",
    "Some important mapping information:\n",
    "\n",
    "Column 'in-store': \n",
    "0 = purchased online\n",
    "1 = purchesd in store\n",
    "\n",
    "Column 'region':\n",
    "1 = North\n",
    "2 = South\n",
    "3 = East\n",
    "4 = West"
   ]
  },
  {
   "cell_type": "code",
   "execution_count": 3,
   "metadata": {
    "ExecuteTime": {
     "end_time": "2023-07-28T10:49:51.926844Z",
     "start_time": "2023-07-28T10:49:51.827811Z"
    },
    "code_folding": [],
    "scrolled": false
   },
   "outputs": [
    {
     "data": {
      "text/html": [
       "<div>\n",
       "<style scoped>\n",
       "    .dataframe tbody tr th:only-of-type {\n",
       "        vertical-align: middle;\n",
       "    }\n",
       "\n",
       "    .dataframe tbody tr th {\n",
       "        vertical-align: top;\n",
       "    }\n",
       "\n",
       "    .dataframe thead th {\n",
       "        text-align: right;\n",
       "    }\n",
       "</style>\n",
       "<table border=\"1\" class=\"dataframe\">\n",
       "  <thead>\n",
       "    <tr style=\"text-align: right;\">\n",
       "      <th></th>\n",
       "      <th>in-store</th>\n",
       "      <th>age</th>\n",
       "      <th>items</th>\n",
       "      <th>amount</th>\n",
       "      <th>region</th>\n",
       "    </tr>\n",
       "  </thead>\n",
       "  <tbody>\n",
       "    <tr>\n",
       "      <th>0</th>\n",
       "      <td>0</td>\n",
       "      <td>37</td>\n",
       "      <td>4</td>\n",
       "      <td>281.03</td>\n",
       "      <td>2</td>\n",
       "    </tr>\n",
       "    <tr>\n",
       "      <th>1</th>\n",
       "      <td>0</td>\n",
       "      <td>35</td>\n",
       "      <td>2</td>\n",
       "      <td>219.51</td>\n",
       "      <td>2</td>\n",
       "    </tr>\n",
       "    <tr>\n",
       "      <th>2</th>\n",
       "      <td>1</td>\n",
       "      <td>45</td>\n",
       "      <td>3</td>\n",
       "      <td>1525.70</td>\n",
       "      <td>4</td>\n",
       "    </tr>\n",
       "    <tr>\n",
       "      <th>3</th>\n",
       "      <td>1</td>\n",
       "      <td>46</td>\n",
       "      <td>3</td>\n",
       "      <td>715.25</td>\n",
       "      <td>3</td>\n",
       "    </tr>\n",
       "    <tr>\n",
       "      <th>4</th>\n",
       "      <td>1</td>\n",
       "      <td>33</td>\n",
       "      <td>4</td>\n",
       "      <td>1937.50</td>\n",
       "      <td>1</td>\n",
       "    </tr>\n",
       "  </tbody>\n",
       "</table>\n",
       "</div>"
      ],
      "text/plain": [
       "   in-store  age  items   amount  region\n",
       "0         0   37      4   281.03       2\n",
       "1         0   35      2   219.51       2\n",
       "2         1   45      3  1525.70       4\n",
       "3         1   46      3   715.25       3\n",
       "4         1   33      4  1937.50       1"
      ]
     },
     "execution_count": 3,
     "metadata": {},
     "output_type": "execute_result"
    }
   ],
   "source": [
    "#importing data\n",
    "data = pd.read_csv(\"C:\\\\Ubiqum\\Python\\Introduction\\Demographic_Data.csv\")\n",
    "#Lets see our data\n",
    "data.head()"
   ]
  },
  {
   "cell_type": "markdown",
   "metadata": {},
   "source": [
    "# EDA (Exploratory Data Analysis)"
   ]
  },
  {
   "cell_type": "code",
   "execution_count": 4,
   "metadata": {
    "ExecuteTime": {
     "end_time": "2023-07-28T10:49:51.954773Z",
     "start_time": "2023-07-28T10:49:51.929661Z"
    },
    "scrolled": true
   },
   "outputs": [
    {
     "name": "stdout",
     "output_type": "stream",
     "text": [
      "No null values in our data:\n"
     ]
    },
    {
     "data": {
      "text/plain": [
       "in-store    0\n",
       "age         0\n",
       "items       0\n",
       "amount      0\n",
       "region      0\n",
       "dtype: int64"
      ]
     },
     "execution_count": 4,
     "metadata": {},
     "output_type": "execute_result"
    }
   ],
   "source": [
    "print(\"No null values in our data:\")\n",
    "data.isnull().sum()"
   ]
  },
  {
   "cell_type": "markdown",
   "metadata": {},
   "source": [
    "We will drop all duplicates in our data, it is unlikely a customer makes the exact same purchase more than once."
   ]
  },
  {
   "cell_type": "code",
   "execution_count": 5,
   "metadata": {
    "ExecuteTime": {
     "end_time": "2023-07-28T10:49:52.043343Z",
     "start_time": "2023-07-28T10:49:51.957617Z"
    },
    "scrolled": true
   },
   "outputs": [
    {
     "name": "stdout",
     "output_type": "stream",
     "text": [
      "There are 21 duplicates which will be removed from our dataset:\n",
      "       in-store  age  items   amount  region\n",
      "17858         0   76      6   283.61       2\n",
      "26112         0   67      4   320.41       2\n",
      "29343         1   23      2  1019.50       4\n",
      "33834         1   38      3  1993.80       1\n",
      "34214         1   31      5  1488.10       4\n",
      "34706         0   39      5  1268.00       4\n",
      "35971         0   38      7   391.51       2\n",
      "43958         1   22      1  1303.20       4\n",
      "44308         1   26      5  1495.70       4\n",
      "45164         0   79      6   342.28       2\n",
      "47414         0   27      6  1555.10       4\n",
      "51600         0   56      2  1941.70       4\n",
      "52013         1   50      5  1889.40       1\n",
      "53652         0   29      2   144.43       2\n",
      "58454         0   76      1   259.44       2\n",
      "59539         1   49      2  1162.00       4\n",
      "59859         0   30      7  2535.10       4\n",
      "61439         1   32      4  1106.10       4\n",
      "63970         1   42      5  1731.10       4\n",
      "75506         0   44      2  1756.70       4\n",
      "78688         1   40      2  1080.60       1\n"
     ]
    }
   ],
   "source": [
    "#filter dupes\n",
    "dupes = data[data.duplicated() == True]\n",
    "\n",
    "#remove dupes\n",
    "data = data.drop_duplicates()\n",
    "\n",
    "print(\"There are \" +str(len(dupes))+ \" duplicates which will be removed from our dataset:\")\n",
    "print(dupes)"
   ]
  },
  {
   "cell_type": "code",
   "execution_count": 6,
   "metadata": {
    "ExecuteTime": {
     "end_time": "2023-07-28T10:49:52.075173Z",
     "start_time": "2023-07-28T10:49:52.046340Z"
    },
    "scrolled": true
   },
   "outputs": [
    {
     "name": "stdout",
     "output_type": "stream",
     "text": [
      "<class 'pandas.core.frame.DataFrame'>\n",
      "Int64Index: 79979 entries, 0 to 79999\n",
      "Data columns (total 5 columns):\n",
      " #   Column    Non-Null Count  Dtype  \n",
      "---  ------    --------------  -----  \n",
      " 0   in-store  79979 non-null  int64  \n",
      " 1   age       79979 non-null  int64  \n",
      " 2   items     79979 non-null  int64  \n",
      " 3   amount    79979 non-null  float64\n",
      " 4   region    79979 non-null  int64  \n",
      "dtypes: float64(1), int64(4)\n",
      "memory usage: 3.7 MB\n"
     ]
    }
   ],
   "source": [
    "data.info()"
   ]
  },
  {
   "cell_type": "code",
   "execution_count": 7,
   "metadata": {
    "ExecuteTime": {
     "end_time": "2023-07-28T10:49:52.095439Z",
     "start_time": "2023-07-28T10:49:52.077534Z"
    }
   },
   "outputs": [],
   "source": [
    "#Creating a regional dictionary for later use\n",
    "region_dict = {1: 'North',\n",
    "               2: 'South',\n",
    "               3: 'East',\n",
    "               4: 'West'}\n",
    "online_dict = {0: 'Online',\n",
    "              1:'In-Store'}\n"
   ]
  },
  {
   "cell_type": "code",
   "execution_count": 8,
   "metadata": {
    "ExecuteTime": {
     "end_time": "2023-07-28T10:49:52.127818Z",
     "start_time": "2023-07-28T10:49:52.098820Z"
    },
    "code_folding": []
   },
   "outputs": [
    {
     "name": "stdout",
     "output_type": "stream",
     "text": [
      "The mean data for all our features:\n",
      "   region  in-store        age     items       amount\n",
      "0       1  1.000000  43.704132  4.510283   744.990939\n",
      "1       2  0.000000  56.609083  4.512804   252.097741\n",
      "2       3  0.611056  45.646944  4.494000   917.969637\n",
      "3       4  0.500000  38.752424  4.503771  1283.938357\n"
     ]
    }
   ],
   "source": [
    "#Looking into the mean of the data based on region\n",
    "avg_data_v1 = data.groupby('region').mean()\n",
    "avg_data_v1.reset_index(inplace = True)\n",
    "print(\"The mean data for all our features:\")\n",
    "print(avg_data_v1)"
   ]
  },
  {
   "cell_type": "markdown",
   "metadata": {},
   "source": [
    "The region 1 'in-store' mean is 1, and region 2 is 0 meaning all purchases in region 1 are done in store and all in region 2 are online.\n",
    "The average age varies between regions, with region 2 (South) having the highest average age by 10 years, and the West having the youngest average age.  \n",
    "The number of items purchased per transaction is fairly constant across all regions at around 4.5 items, however, the amount spent varies greatly. "
   ]
  },
  {
   "cell_type": "code",
   "execution_count": 9,
   "metadata": {
    "ExecuteTime": {
     "end_time": "2023-07-28T10:49:52.744279Z",
     "start_time": "2023-07-28T10:49:52.131546Z"
    },
    "scrolled": true
   },
   "outputs": [
    {
     "data": {
      "text/plain": [
       "Text(0.5, 1.0, 'Correlation matrix of all variables')"
      ]
     },
     "execution_count": 9,
     "metadata": {},
     "output_type": "execute_result"
    },
    {
     "data": {
      "image/png": "[encoded data removed]",
      "text/plain": [
       "<Figure size 432x288 with 2 Axes>"
      ]
     },
     "metadata": {
      "needs_background": "light"
     },
     "output_type": "display_data"
    }
   ],
   "source": [
    "corr_heatmap=sns.heatmap(data.corr(),annot=True)\n",
    "corr_heatmap.set_title('Correlation matrix of all variables')"
   ]
  },
  {
   "cell_type": "markdown",
   "metadata": {},
   "source": [
    "The strongest correlation is between region and amount at 0.4 implying the amount spent goes up with the region. We will look into this further."
   ]
  },
  {
   "cell_type": "markdown",
   "metadata": {},
   "source": [
    "## Age"
   ]
  },
  {
   "cell_type": "code",
   "execution_count": 10,
   "metadata": {
    "ExecuteTime": {
     "end_time": "2023-07-28T10:49:52.993501Z",
     "start_time": "2023-07-28T10:49:52.746438Z"
    },
    "code_folding": []
   },
   "outputs": [
    {
     "data": {
      "image/png": "[encoded data removed]",
      "text/plain": [
       "<Figure size 432x288 with 1 Axes>"
      ]
     },
     "metadata": {
      "needs_background": "light"
     },
     "output_type": "display_data"
    }
   ],
   "source": [
    "#Plotting a bar chart to show the average age in each region\n",
    "plt.bar(x = avg_data_v1['region'], height = avg_data_v1['age'])\n",
    "plt.title('Average Age per Region')\n",
    "plt.ylabel('Age')\n",
    "plt.xlabel('Region')\n",
    "plt.grid(color = '#95a5a6', linestyle='--', axis = 'y')\n",
    "plt.xticks([1,2,3,4],['North', 'South', 'East', 'West'])\n",
    "plt.show()"
   ]
  },
  {
   "cell_type": "code",
   "execution_count": 22,
   "metadata": {
    "ExecuteTime": {
     "end_time": "2023-07-28T11:04:16.273226Z",
     "start_time": "2023-07-28T11:04:15.272048Z"
    }
   },
   "outputs": [
    {
     "data": {
      "text/plain": [
       "<seaborn.axisgrid.FacetGrid at 0x1db74a365b0>"
      ]
     },
     "execution_count": 22,
     "metadata": {},
     "output_type": "execute_result"
    },
    {
     "data": {
      "image/png": "[encoded data removed]",
      "text/plain": [
       "<Figure size 928.875x216 with 1 Axes>"
      ]
     },
     "metadata": {
      "needs_background": "light"
     },
     "output_type": "display_data"
    }
   ],
   "source": [
    "fig = sns.FacetGrid(data.replace({'region': region_dict}), hue='region', aspect=4)\n",
    "fig.map(sns.kdeplot, 'age', shade=True)\n",
    "fig.set(xlim=(0,data['age'].max()))\n",
    "fig.set(title='Distribution of region by age')\n",
    "fig.add_legend()"
   ]
  },
  {
   "cell_type": "markdown",
   "metadata": {},
   "source": [
    "We can see large variations in the age distributions across every region. The South has an even distribution starting from ~30 to ~80 years old. The West has the largest population which is a younger demographic, evenly distributed from ~18 to ~55 years old with a much smaller population older than that. The East has more of a normal distribution, with smaller numbers at very young and very old. Finally, the North has a normal lookign distribution up until ~55 years old where it drops off."
   ]
  },
  {
   "cell_type": "code",
   "execution_count": 12,
   "metadata": {
    "ExecuteTime": {
     "end_time": "2023-07-28T10:49:56.293469Z",
     "start_time": "2023-07-28T10:49:55.594745Z"
    },
    "code_folding": []
   },
   "outputs": [
    {
     "data": {
      "text/plain": [
       "Text(0.5, 1.0, 'Age distribution across regions')"
      ]
     },
     "execution_count": 12,
     "metadata": {},
     "output_type": "execute_result"
    },
    {
     "data": {
      "image/png": "[encoded data removed]",
      "text/plain": [
       "<Figure size 576x576 with 1 Axes>"
      ]
     },
     "metadata": {
      "needs_background": "light"
     },
     "output_type": "display_data"
    }
   ],
   "source": [
    "#Creating a Generation column to convert age to generations\n",
    "data['Generation'] = pd.cut(x = data['age'], bins = [17,26,42,58,77,86], labels = ['Gen Z', 'Millennial', 'Gen X','Baby Boomer','The Silent Generation'])\n",
    "\n",
    "#Splitting the data to get regional data\n",
    "region_1_data =  data[data['region'] == 1]\n",
    "region_2_data =  data[data['region'] == 2]\n",
    "region_3_data =  data[data['region'] == 3]\n",
    "region_4_data =  data[data['region'] == 4]\n",
    "\n",
    "#Plotting a graph with all regions age distributions\n",
    "plt.figure(figsize=(8,8))\n",
    "sns.histplot(shrink=0.5, x=\"Generation\", hue=\"region\", data=data.replace({'region': region_dict}), stat=\"count\", multiple=\"dodge\")\n",
    "plt.title('Age distribution across regions')"
   ]
  },
  {
   "cell_type": "markdown",
   "metadata": {},
   "source": [
    "The South has a much older generation than others, and the West is a lot younger."
   ]
  },
  {
   "cell_type": "code",
   "execution_count": 13,
   "metadata": {
    "ExecuteTime": {
     "end_time": "2023-07-28T10:49:56.574016Z",
     "start_time": "2023-07-28T10:49:56.295374Z"
    }
   },
   "outputs": [
    {
     "data": {
      "text/plain": [
       "Text(0.5, 1.0, 'How age varies across regions')"
      ]
     },
     "execution_count": 13,
     "metadata": {},
     "output_type": "execute_result"
    },
    {
     "data": {
      "image/png": "[encoded data removed]",
      "text/plain": [
       "<Figure size 432x288 with 1 Axes>"
      ]
     },
     "metadata": {
      "needs_background": "light"
     },
     "output_type": "display_data"
    }
   ],
   "source": [
    "combo_items =[region_1_data['age'],region_2_data['age'],region_3_data['age'],region_4_data['age']]\n",
    "#Plotting box plot\n",
    "plt.boxplot(combo_items,0,'gD')\n",
    "plt.xlabel('Region')\n",
    "plt.ylabel('Age')\n",
    "plt.xticks(ticks=[1,2,3,4],labels=['North','South','East','West'])\n",
    "plt.grid(color = '#95a5a6', linestyle='--', axis = 'y')\n",
    "plt.title('How age varies across regions')"
   ]
  },
  {
   "cell_type": "markdown",
   "metadata": {},
   "source": [
    "Finally, the above boxplot shows the spread of ages we have per region, with the orange line the mean age, and the other four horizontal lines (going low to high) representing the lowest age, the lower quartile age, upper quartile and the final line the eldest customer per region."
   ]
  },
  {
   "cell_type": "markdown",
   "metadata": {},
   "source": [
    "## Amount"
   ]
  },
  {
   "cell_type": "code",
   "execution_count": 14,
   "metadata": {
    "ExecuteTime": {
     "end_time": "2023-07-28T10:49:56.841107Z",
     "start_time": "2023-07-28T10:49:56.576362Z"
    },
    "scrolled": true
   },
   "outputs": [
    {
     "data": {
      "image/png": "[encoded data removed]",
      "text/plain": [
       "<Figure size 432x288 with 1 Axes>"
      ]
     },
     "metadata": {
      "needs_background": "light"
     },
     "output_type": "display_data"
    }
   ],
   "source": [
    "#Function to find the average amount\n",
    "def weighted_avg(dataframe, item, amounts):\n",
    "    item_numb = dataframe[item]\n",
    "    amount_numb = dataframe[amounts]\n",
    "    return amount_numb.sum() /item_numb.sum()\n",
    "\n",
    "wgt_avg_data = data.replace({'region': region_dict}).groupby('region').apply(weighted_avg,'items','amount')\n",
    "#Turn series into a Data Frame\n",
    "wgt_avg_data_df = wgt_avg_data.to_frame()\n",
    "#rearrange the index\n",
    "wgt_avg_data_df.reset_index(inplace = True)\n",
    "#Rename columns\n",
    "wgt_avg_data_df.columns = ['Region','Average spend per Transaction per item']\n",
    "#plotting the bar chart\n",
    "plt.bar( x= wgt_avg_data_df['Region'],height = wgt_avg_data_df['Average spend per Transaction per item'])\n",
    "#adding titles, labels & grid lines\n",
    "plt.title('Average spend per item')\n",
    "plt.ylabel('Amount (£)')\n",
    "plt.xlabel('Region')\n",
    "plt.grid(color = '#95a5a6', linestyle='--', axis = 'y')"
   ]
  },
  {
   "cell_type": "markdown",
   "metadata": {
    "ExecuteTime": {
     "end_time": "2023-07-13T12:53:47.702039Z",
     "start_time": "2023-07-13T12:53:47.684084Z"
    }
   },
   "source": [
    "The average spend per item in the West region is drastcially higher than all others. We can look at how this average price per item varies over instore and online purchases across the regions."
   ]
  },
  {
   "cell_type": "code",
   "execution_count": 15,
   "metadata": {
    "ExecuteTime": {
     "end_time": "2023-07-28T10:49:56.860294Z",
     "start_time": "2023-07-28T10:49:56.844364Z"
    },
    "scrolled": true
   },
   "outputs": [],
   "source": [
    "online_df = data[data['in-store']==0]\n",
    "instore_df = data[data['in-store']==1]"
   ]
  },
  {
   "cell_type": "code",
   "execution_count": 16,
   "metadata": {
    "ExecuteTime": {
     "end_time": "2023-07-28T10:49:57.113777Z",
     "start_time": "2023-07-28T10:49:56.862335Z"
    }
   },
   "outputs": [
    {
     "data": {
      "image/png": "[encoded data removed]",
      "text/plain": [
       "<Figure size 432x288 with 1 Axes>"
      ]
     },
     "metadata": {
      "needs_background": "light"
     },
     "output_type": "display_data"
    }
   ],
   "source": [
    "wgt_avg_data_online = online_df.replace({'region': region_dict}).groupby('region').apply(weighted_avg,'items','amount')\n",
    "#Turn series into a Data Frame\n",
    "wgt_avg_data_df_online = wgt_avg_data_online.to_frame()\n",
    "#rearrange the index\n",
    "wgt_avg_data_df_online.reset_index(inplace = True)\n",
    "#Rename columns\n",
    "wgt_avg_data_df_online.columns = ['Region','Average spend per Transaction per item']\n",
    "#plotting the bar chart\n",
    "plt.bar( x= wgt_avg_data_df_online['Region'],height = wgt_avg_data_df_online['Average spend per Transaction per item'])\n",
    "#adding titles, labels & grid lines\n",
    "plt.title('Average spend per item online')\n",
    "plt.ylabel('Amount (£)')\n",
    "plt.xlabel('Region')\n",
    "plt.grid(color = '#95a5a6', linestyle='--', axis = 'y')"
   ]
  },
  {
   "cell_type": "markdown",
   "metadata": {},
   "source": [
    "North has no online purchases, the average price per item in the South is very cheap and the East and West look to have very similar average prices (this data is not real)."
   ]
  },
  {
   "cell_type": "code",
   "execution_count": 17,
   "metadata": {
    "ExecuteTime": {
     "end_time": "2023-07-28T10:49:57.345694Z",
     "start_time": "2023-07-28T10:49:57.116958Z"
    },
    "scrolled": true
   },
   "outputs": [
    {
     "data": {
      "image/png": "[encoded data removed]",
      "text/plain": [
       "<Figure size 432x288 with 1 Axes>"
      ]
     },
     "metadata": {
      "needs_background": "light"
     },
     "output_type": "display_data"
    }
   ],
   "source": [
    "wgt_avg_data_instore = instore_df.replace({'region': region_dict}).groupby('region').apply(weighted_avg,'items','amount')\n",
    "#Turn series into a Data Frame\n",
    "wgt_avg_data_df_instore = wgt_avg_data_instore.to_frame()\n",
    "#rearrange the index\n",
    "wgt_avg_data_df_instore.reset_index(inplace = True)\n",
    "#Rename columns\n",
    "wgt_avg_data_df_instore.columns = ['Region','Average spend per Transaction per item']\n",
    "#plotting the bar chart\n",
    "plt.bar( x= wgt_avg_data_df_instore['Region'],height = wgt_avg_data_df_instore['Average spend per Transaction per item'])\n",
    "#adding titles, labels & grid lines\n",
    "plt.title('Average spend per item in store')\n",
    "plt.ylabel('Amount (£)')\n",
    "plt.xlabel('Region')\n",
    "plt.grid(color = '#95a5a6', linestyle='--', axis = 'y')"
   ]
  },
  {
   "cell_type": "markdown",
   "metadata": {},
   "source": [
    "In-store items are cheapest in the East, gradually getting more expensive as we move to North and the West which is the most expensive. There were no in store purchases in the South."
   ]
  },
  {
   "cell_type": "code",
   "execution_count": 18,
   "metadata": {
    "ExecuteTime": {
     "end_time": "2023-07-28T10:49:57.675444Z",
     "start_time": "2023-07-28T10:49:57.347625Z"
    },
    "scrolled": true
   },
   "outputs": [
    {
     "data": {
      "text/plain": [
       "Text(0.5, 1.0, 'Percentage of total revenue from each region')"
      ]
     },
     "execution_count": 18,
     "metadata": {},
     "output_type": "execute_result"
    },
    {
     "data": {
      "image/png": "[encoded data removed]",
      "text/plain": [
       "<Figure size 432x288 with 1 Axes>"
      ]
     },
     "metadata": {},
     "output_type": "display_data"
    }
   ],
   "source": [
    "#Finding the totals of each region \n",
    "total_data_region = data.replace({'region': region_dict}).groupby('region').sum().reset_index()\n",
    "#Plotting the pie chart\n",
    "plt.pie(x = total_data_region['amount'], labels = total_data_region['region'] , explode = [0.1,0.1,0.1,0.1], shadow = True, autopct='%1.1f%%')\n",
    "plt.title('Percentage of total revenue from each region')"
   ]
  },
  {
   "cell_type": "markdown",
   "metadata": {},
   "source": [
    "The West generates almost half of all sales revenue, with the East responsible for a quarter."
   ]
  },
  {
   "cell_type": "code",
   "execution_count": 24,
   "metadata": {
    "ExecuteTime": {
     "end_time": "2023-07-28T11:05:46.811946Z",
     "start_time": "2023-07-28T11:05:46.533914Z"
    },
    "scrolled": true
   },
   "outputs": [
    {
     "name": "stderr",
     "output_type": "stream",
     "text": [
      "C:\\Users\\domsi\\anaconda3\\lib\\site-packages\\seaborn\\categorical.py:3704: UserWarning: The `factorplot` function has been renamed to `catplot`. The original name will be removed in a future release. Please update your code. Note that the default `kind` in `factorplot` (`'point'`) has changed `'strip'` in `catplot`.\n",
      "  warnings.warn(msg)\n"
     ]
    },
    {
     "data": {
      "text/plain": [
       "<seaborn.axisgrid.FacetGrid at 0x1db76cf1ee0>"
      ]
     },
     "execution_count": 24,
     "metadata": {},
     "output_type": "execute_result"
    },
    {
     "data": {
      "image/png": "[encoded data removed]",
      "text/plain": [
       "<Figure size 360x360 with 1 Axes>"
      ]
     },
     "metadata": {
      "needs_background": "light"
     },
     "output_type": "display_data"
    }
   ],
   "source": [
    "generation_spend = pd.DataFrame(data.groupby(['Generation'])['amount'].sum())\n",
    "generation_spend.reset_index(inplace=True)\n",
    "\n",
    "sns.factorplot(data=generation_spend,x='Generation',y='amount',kind='bar')"
   ]
  },
  {
   "cell_type": "code",
   "execution_count": 25,
   "metadata": {
    "ExecuteTime": {
     "end_time": "2023-07-28T11:05:49.534074Z",
     "start_time": "2023-07-28T11:05:46.814169Z"
    },
    "scrolled": true
   },
   "outputs": [
    {
     "data": {
      "text/plain": [
       "[Text(0, 0, '18'),\n",
       " Text(1, 0, '19'),\n",
       " Text(2, 0, '20'),\n",
       " Text(3, 0, '21'),\n",
       " Text(4, 0, '22'),\n",
       " Text(5, 0, '23'),\n",
       " Text(6, 0, '24'),\n",
       " Text(7, 0, '25'),\n",
       " Text(8, 0, '26'),\n",
       " Text(9, 0, '27'),\n",
       " Text(10, 0, '28'),\n",
       " Text(11, 0, '29'),\n",
       " Text(12, 0, '30'),\n",
       " Text(13, 0, '31'),\n",
       " Text(14, 0, '32'),\n",
       " Text(15, 0, '33'),\n",
       " Text(16, 0, '34'),\n",
       " Text(17, 0, '35'),\n",
       " Text(18, 0, '36'),\n",
       " Text(19, 0, '37'),\n",
       " Text(20, 0, '38'),\n",
       " Text(21, 0, '39'),\n",
       " Text(22, 0, '40'),\n",
       " Text(23, 0, '41'),\n",
       " Text(24, 0, '42'),\n",
       " Text(25, 0, '43'),\n",
       " Text(26, 0, '44'),\n",
       " Text(27, 0, '45'),\n",
       " Text(28, 0, '46'),\n",
       " Text(29, 0, '47'),\n",
       " Text(30, 0, '48'),\n",
       " Text(31, 0, '49'),\n",
       " Text(32, 0, '50'),\n",
       " Text(33, 0, '51'),\n",
       " Text(34, 0, '52'),\n",
       " Text(35, 0, '53'),\n",
       " Text(36, 0, '54'),\n",
       " Text(37, 0, '55'),\n",
       " Text(38, 0, '56'),\n",
       " Text(39, 0, '57'),\n",
       " Text(40, 0, '58'),\n",
       " Text(41, 0, '59'),\n",
       " Text(42, 0, '60'),\n",
       " Text(43, 0, '61'),\n",
       " Text(44, 0, '62'),\n",
       " Text(45, 0, '63'),\n",
       " Text(46, 0, '64'),\n",
       " Text(47, 0, '65'),\n",
       " Text(48, 0, '66'),\n",
       " Text(49, 0, '67'),\n",
       " Text(50, 0, '68'),\n",
       " Text(51, 0, '69'),\n",
       " Text(52, 0, '70'),\n",
       " Text(53, 0, '71'),\n",
       " Text(54, 0, '72'),\n",
       " Text(55, 0, '73'),\n",
       " Text(56, 0, '74'),\n",
       " Text(57, 0, '75'),\n",
       " Text(58, 0, '76'),\n",
       " Text(59, 0, '77'),\n",
       " Text(60, 0, '78'),\n",
       " Text(61, 0, '79'),\n",
       " Text(62, 0, '80'),\n",
       " Text(63, 0, '81'),\n",
       " Text(64, 0, '82'),\n",
       " Text(65, 0, '83'),\n",
       " Text(66, 0, '84'),\n",
       " Text(67, 0, '85')]"
      ]
     },
     "execution_count": 25,
     "metadata": {},
     "output_type": "execute_result"
    },
    {
     "data": {
      "image/png": "[encoded data removed]",
      "text/plain": [
       "<Figure size 720x360 with 1 Axes>"
      ]
     },
     "metadata": {
      "needs_background": "light"
     },
     "output_type": "display_data"
    }
   ],
   "source": [
    "plt.figure(figsize=(10,5))\n",
    "age_spend = pd.DataFrame(data.groupby(['age'])['amount'].sum())\n",
    "age_spend.reset_index(inplace=True)\n",
    "age_spend_chart= sns.barplot(data=age_spend,x='age',y='amount')\n",
    "age_spend_chart.set_xticklabels(\n",
    "    age_spend_chart.get_xticklabels(), \n",
    "    rotation=90, \n",
    "    horizontalalignment='right',\n",
    "    fontweight='light',\n",
    "    fontsize='small'    \n",
    ")\n"
   ]
  },
  {
   "cell_type": "markdown",
   "metadata": {
    "ExecuteTime": {
     "end_time": "2023-07-14T14:00:57.186969Z",
     "start_time": "2023-07-14T14:00:57.161871Z"
    }
   },
   "source": [
    "From the above we can get a better assesment of where the majority of income is coming from, ~25 - ~55 is the bulk of revenue."
   ]
  },
  {
   "cell_type": "markdown",
   "metadata": {},
   "source": [
    "## Items"
   ]
  },
  {
   "cell_type": "code",
   "execution_count": 26,
   "metadata": {
    "ExecuteTime": {
     "end_time": "2023-07-28T11:05:49.586878Z",
     "start_time": "2023-07-28T11:05:49.537423Z"
    },
    "scrolled": true
   },
   "outputs": [
    {
     "data": {
      "text/plain": [
       "region\n",
       "East     18000\n",
       "North    15997\n",
       "South    19994\n",
       "West     25988\n",
       "Name: items, dtype: int64"
      ]
     },
     "execution_count": 26,
     "metadata": {},
     "output_type": "execute_result"
    }
   ],
   "source": [
    "data.replace({'region': region_dict}).groupby('region')['items'].count()"
   ]
  },
  {
   "cell_type": "markdown",
   "metadata": {},
   "source": [
    "The West has a much higher item count than the other regions (despite the mean item per transaction being the same across all regions. The below chart shows the number of transcations being much higher, evening out the means across the regions."
   ]
  },
  {
   "cell_type": "code",
   "execution_count": 27,
   "metadata": {
    "ExecuteTime": {
     "end_time": "2023-07-28T11:05:50.134935Z",
     "start_time": "2023-07-28T11:05:49.590216Z"
    },
    "scrolled": true
   },
   "outputs": [
    {
     "name": "stderr",
     "output_type": "stream",
     "text": [
      "C:\\Users\\domsi\\anaconda3\\lib\\site-packages\\seaborn\\categorical.py:3704: UserWarning: The `factorplot` function has been renamed to `catplot`. The original name will be removed in a future release. Please update your code. Note that the default `kind` in `factorplot` (`'point'`) has changed `'strip'` in `catplot`.\n",
      "  warnings.warn(msg)\n"
     ]
    },
    {
     "data": {
      "text/plain": [
       "<seaborn.axisgrid.FacetGrid at 0x1db767ecd30>"
      ]
     },
     "execution_count": 27,
     "metadata": {},
     "output_type": "execute_result"
    },
    {
     "data": {
      "image/png": "[encoded data removed]",
      "text/plain": [
       "<Figure size 540x360 with 1 Axes>"
      ]
     },
     "metadata": {
      "needs_background": "light"
     },
     "output_type": "display_data"
    }
   ],
   "source": [
    "sns.factorplot(data=data.replace({'region': region_dict}),x='region', kind='count', aspect=1.5)"
   ]
  },
  {
   "cell_type": "markdown",
   "metadata": {},
   "source": [
    "From the below, there doesn't seem to be any relationship between the number of items purchaes and the amount spent. We can check this with a correlation matrix."
   ]
  },
  {
   "cell_type": "code",
   "execution_count": 28,
   "metadata": {
    "ExecuteTime": {
     "end_time": "2023-07-28T11:05:50.165694Z",
     "start_time": "2023-07-28T11:05:50.137043Z"
    },
    "scrolled": true
   },
   "outputs": [
    {
     "name": "stdout",
     "output_type": "stream",
     "text": [
      "           items    amount\n",
      "items   1.000000  0.000384\n",
      "amount  0.000384  1.000000\n"
     ]
    }
   ],
   "source": [
    "corr_mat = data[['items','amount']].corr() # [['items','amount']]\n",
    "print(corr_mat)"
   ]
  },
  {
   "cell_type": "markdown",
   "metadata": {},
   "source": [
    "As expected, there is no correlation between the number of items purchased and the amount spent which could imply different regions are selling completely different items."
   ]
  },
  {
   "cell_type": "code",
   "execution_count": 29,
   "metadata": {
    "ExecuteTime": {
     "end_time": "2023-07-28T11:05:50.225550Z",
     "start_time": "2023-07-28T11:05:50.168687Z"
    },
    "scrolled": true
   },
   "outputs": [
    {
     "data": {
      "text/html": [
       "<div>\n",
       "<style scoped>\n",
       "    .dataframe tbody tr th:only-of-type {\n",
       "        vertical-align: middle;\n",
       "    }\n",
       "\n",
       "    .dataframe tbody tr th {\n",
       "        vertical-align: top;\n",
       "    }\n",
       "\n",
       "    .dataframe thead th {\n",
       "        text-align: right;\n",
       "    }\n",
       "</style>\n",
       "<table border=\"1\" class=\"dataframe\">\n",
       "  <thead>\n",
       "    <tr style=\"text-align: right;\">\n",
       "      <th></th>\n",
       "      <th>in-store</th>\n",
       "      <th>age</th>\n",
       "      <th>items</th>\n",
       "      <th>amount</th>\n",
       "      <th>region</th>\n",
       "    </tr>\n",
       "  </thead>\n",
       "  <tbody>\n",
       "    <tr>\n",
       "      <th>count</th>\n",
       "      <td>5699.000000</td>\n",
       "      <td>5699.000000</td>\n",
       "      <td>5699.0</td>\n",
       "      <td>5699.000000</td>\n",
       "      <td>5699.000000</td>\n",
       "    </tr>\n",
       "    <tr>\n",
       "      <th>mean</th>\n",
       "      <td>0.501667</td>\n",
       "      <td>45.968416</td>\n",
       "      <td>1.0</td>\n",
       "      <td>825.401751</td>\n",
       "      <td>2.690647</td>\n",
       "    </tr>\n",
       "    <tr>\n",
       "      <th>std</th>\n",
       "      <td>0.500041</td>\n",
       "      <td>15.670116</td>\n",
       "      <td>0.0</td>\n",
       "      <td>714.696664</td>\n",
       "      <td>1.125006</td>\n",
       "    </tr>\n",
       "    <tr>\n",
       "      <th>min</th>\n",
       "      <td>0.000000</td>\n",
       "      <td>18.000000</td>\n",
       "      <td>1.0</td>\n",
       "      <td>5.304300</td>\n",
       "      <td>1.000000</td>\n",
       "    </tr>\n",
       "    <tr>\n",
       "      <th>25%</th>\n",
       "      <td>0.000000</td>\n",
       "      <td>34.000000</td>\n",
       "      <td>1.0</td>\n",
       "      <td>284.220000</td>\n",
       "      <td>2.000000</td>\n",
       "    </tr>\n",
       "    <tr>\n",
       "      <th>50%</th>\n",
       "      <td>1.000000</td>\n",
       "      <td>44.000000</td>\n",
       "      <td>1.0</td>\n",
       "      <td>571.980000</td>\n",
       "      <td>3.000000</td>\n",
       "    </tr>\n",
       "    <tr>\n",
       "      <th>75%</th>\n",
       "      <td>1.000000</td>\n",
       "      <td>57.000000</td>\n",
       "      <td>1.0</td>\n",
       "      <td>1199.350000</td>\n",
       "      <td>4.000000</td>\n",
       "    </tr>\n",
       "    <tr>\n",
       "      <th>max</th>\n",
       "      <td>1.000000</td>\n",
       "      <td>85.000000</td>\n",
       "      <td>1.0</td>\n",
       "      <td>2998.600000</td>\n",
       "      <td>4.000000</td>\n",
       "    </tr>\n",
       "  </tbody>\n",
       "</table>\n",
       "</div>"
      ],
      "text/plain": [
       "          in-store          age   items       amount       region\n",
       "count  5699.000000  5699.000000  5699.0  5699.000000  5699.000000\n",
       "mean      0.501667    45.968416     1.0   825.401751     2.690647\n",
       "std       0.500041    15.670116     0.0   714.696664     1.125006\n",
       "min       0.000000    18.000000     1.0     5.304300     1.000000\n",
       "25%       0.000000    34.000000     1.0   284.220000     2.000000\n",
       "50%       1.000000    44.000000     1.0   571.980000     3.000000\n",
       "75%       1.000000    57.000000     1.0  1199.350000     4.000000\n",
       "max       1.000000    85.000000     1.0  2998.600000     4.000000"
      ]
     },
     "execution_count": 29,
     "metadata": {},
     "output_type": "execute_result"
    }
   ],
   "source": [
    "item_1 = data[data['items'] == 1]\n",
    "item_1.describe()"
   ]
  },
  {
   "cell_type": "markdown",
   "metadata": {},
   "source": [
    "## Online/In store purchasing"
   ]
  },
  {
   "cell_type": "code",
   "execution_count": 30,
   "metadata": {
    "ExecuteTime": {
     "end_time": "2023-07-28T11:05:50.273407Z",
     "start_time": "2023-07-28T11:05:50.229427Z"
    },
    "code_folding": []
   },
   "outputs": [],
   "source": [
    "# Creating more easily read dataset, replacing numbers with names \n",
    "data_2 = data.replace({'in-store': online_dict,\n",
    "                      'region': region_dict})"
   ]
  },
  {
   "cell_type": "markdown",
   "metadata": {},
   "source": [
    "### Where do different generations purchase their transactions?"
   ]
  },
  {
   "cell_type": "code",
   "execution_count": 31,
   "metadata": {
    "ExecuteTime": {
     "end_time": "2023-07-28T11:05:50.966956Z",
     "start_time": "2023-07-28T11:05:50.279943Z"
    }
   },
   "outputs": [
    {
     "data": {
      "text/plain": [
       "<AxesSubplot:xlabel='Generation', ylabel='Count'>"
      ]
     },
     "execution_count": 31,
     "metadata": {},
     "output_type": "execute_result"
    },
    {
     "data": {
      "image/png": "[encoded data removed]",
      "text/plain": [
       "<Figure size 432x288 with 1 Axes>"
      ]
     },
     "metadata": {
      "needs_background": "light"
     },
     "output_type": "display_data"
    }
   ],
   "source": [
    "sns.histplot(shrink=0.5, x=\"Generation\", hue=\"in-store\", data=data.replace({'region': region_dict,'in-store':online_dict}), stat=\"count\", multiple=\"dodge\")"
   ]
  },
  {
   "cell_type": "code",
   "execution_count": 32,
   "metadata": {
    "ExecuteTime": {
     "end_time": "2023-07-28T11:05:51.603087Z",
     "start_time": "2023-07-28T11:05:50.967985Z"
    },
    "code_folding": []
   },
   "outputs": [
    {
     "data": {
      "text/plain": [
       "Text(0.5, 1.0, 'Purchasing behaviour across generations of customers')"
      ]
     },
     "execution_count": 32,
     "metadata": {},
     "output_type": "execute_result"
    },
    {
     "data": {
      "image/png": "[encoded data removed]",
      "text/plain": [
       "<Figure size 576x576 with 1 Axes>"
      ]
     },
     "metadata": {
      "needs_background": "light"
     },
     "output_type": "display_data"
    }
   ],
   "source": [
    "#The same graph as above overlapping\n",
    "plt.figure(figsize=(8,8))\n",
    "sns.histplot(data=data_2, binwidth=0.5, x=\"Generation\", hue=\"in-store\", stat=\"count\", multiple=\"layer\")\n",
    "plt.title('Purchasing behaviour across generations of customers')"
   ]
  },
  {
   "cell_type": "markdown",
   "metadata": {},
   "source": [
    "From the we see that in general, the older customers (Baby Boomers and the Silent Generation) prefer to purchase online, whereas the younger generations (Gen Z, Millenial, and Gen X) prefer to buy in-store.\n",
    "This could be for many reasons, including delivery for online shopping being an easier option for older customers, the local store location being difficult to access for elderly people."
   ]
  },
  {
   "cell_type": "code",
   "execution_count": 33,
   "metadata": {
    "ExecuteTime": {
     "end_time": "2023-07-28T11:05:53.343438Z",
     "start_time": "2023-07-28T11:05:51.606075Z"
    }
   },
   "outputs": [
    {
     "data": {
      "text/plain": [
       "array([[<AxesSubplot:ylabel='Gen Z'>, <AxesSubplot:ylabel='Millennial'>],\n",
       "       [<AxesSubplot:ylabel='Gen X'>, <AxesSubplot:ylabel='Baby Boomer'>],\n",
       "       [<AxesSubplot:ylabel='The Silent Generation'>, <AxesSubplot:>]],\n",
       "      dtype=object)"
      ]
     },
     "execution_count": 33,
     "metadata": {},
     "output_type": "execute_result"
    },
    {
     "data": {
      "image/png": "[encoded data removed]",
      "text/plain": [
       "<Figure size 1440x1440 with 6 Axes>"
      ]
     },
     "metadata": {
      "needs_background": "light"
     },
     "output_type": "display_data"
    }
   ],
   "source": [
    "data_count_gen = data_2.groupby(['in-store', 'Generation']).size().unstack()\n",
    "data_count_gen.plot.pie(subplots=True, figsize=(20, 20),layout=(3,2),explode = [0.1,0.1],autopct='%1.1f%%')"
   ]
  },
  {
   "cell_type": "markdown",
   "metadata": {},
   "source": [
    "Every single purchase made by a customer from the Silent Generation was made online, and Baby Boomers also buy 17% more products online than in-store."
   ]
  },
  {
   "cell_type": "markdown",
   "metadata": {},
   "source": [
    "### Do other factors correlate to an online or in-store transaction?"
   ]
  },
  {
   "cell_type": "markdown",
   "metadata": {},
   "source": [
    "#### Number of items"
   ]
  },
  {
   "cell_type": "code",
   "execution_count": 34,
   "metadata": {
    "ExecuteTime": {
     "end_time": "2023-07-28T11:05:54.248937Z",
     "start_time": "2023-07-28T11:05:53.345933Z"
    }
   },
   "outputs": [
    {
     "data": {
      "text/plain": [
       "<AxesSubplot:xlabel='items', ylabel='Count'>"
      ]
     },
     "execution_count": 34,
     "metadata": {},
     "output_type": "execute_result"
    },
    {
     "data": {
      "image/png": "[encoded data removed]",
      "text/plain": [
       "<Figure size 432x288 with 1 Axes>"
      ]
     },
     "metadata": {
      "needs_background": "light"
     },
     "output_type": "display_data"
    }
   ],
   "source": [
    "data_count_items = data_2.groupby(['in-store', 'items']).size().unstack() \n",
    "sns.histplot(shrink=4, x=\"items\", hue=\"in-store\", data=data_2, stat=\"count\", multiple=\"dodge\")"
   ]
  },
  {
   "cell_type": "markdown",
   "metadata": {},
   "source": [
    "We can see from the above graph that the number of items bought per transaction does not change if the transaction was done in-store or online, hence there is nothing further to investigate between this relationship."
   ]
  },
  {
   "cell_type": "markdown",
   "metadata": {},
   "source": [
    "#### Regions"
   ]
  },
  {
   "cell_type": "code",
   "execution_count": 35,
   "metadata": {
    "ExecuteTime": {
     "end_time": "2023-07-28T11:05:54.859499Z",
     "start_time": "2023-07-28T11:05:54.250458Z"
    }
   },
   "outputs": [
    {
     "data": {
      "text/plain": [
       "<AxesSubplot:xlabel='region', ylabel='Count'>"
      ]
     },
     "execution_count": 35,
     "metadata": {},
     "output_type": "execute_result"
    },
    {
     "data": {
      "image/png": "[encoded data removed]",
      "text/plain": [
       "<Figure size 576x576 with 1 Axes>"
      ]
     },
     "metadata": {
      "needs_background": "light"
     },
     "output_type": "display_data"
    }
   ],
   "source": [
    "plt.figure(figsize=(8,8))\n",
    "sns.histplot(shrink = .9, x=\"region\", hue=\"in-store\", data=data_2, stat=\"count\", multiple=\"dodge\")"
   ]
  },
  {
   "cell_type": "code",
   "execution_count": 36,
   "metadata": {
    "ExecuteTime": {
     "end_time": "2023-07-28T11:05:54.910502Z",
     "start_time": "2023-07-28T11:05:54.863116Z"
    }
   },
   "outputs": [
    {
     "data": {
      "text/html": [
       "<div>\n",
       "<style scoped>\n",
       "    .dataframe tbody tr th:only-of-type {\n",
       "        vertical-align: middle;\n",
       "    }\n",
       "\n",
       "    .dataframe tbody tr th {\n",
       "        vertical-align: top;\n",
       "    }\n",
       "\n",
       "    .dataframe thead th {\n",
       "        text-align: right;\n",
       "    }\n",
       "</style>\n",
       "<table border=\"1\" class=\"dataframe\">\n",
       "  <thead>\n",
       "    <tr style=\"text-align: right;\">\n",
       "      <th>region</th>\n",
       "      <th>East</th>\n",
       "      <th>North</th>\n",
       "      <th>South</th>\n",
       "      <th>West</th>\n",
       "    </tr>\n",
       "    <tr>\n",
       "      <th>in-store</th>\n",
       "      <th></th>\n",
       "      <th></th>\n",
       "      <th></th>\n",
       "      <th></th>\n",
       "    </tr>\n",
       "  </thead>\n",
       "  <tbody>\n",
       "    <tr>\n",
       "      <th>In-Store</th>\n",
       "      <td>10999.0</td>\n",
       "      <td>15997.0</td>\n",
       "      <td>NaN</td>\n",
       "      <td>12994.0</td>\n",
       "    </tr>\n",
       "    <tr>\n",
       "      <th>Online</th>\n",
       "      <td>7001.0</td>\n",
       "      <td>NaN</td>\n",
       "      <td>19994.0</td>\n",
       "      <td>12994.0</td>\n",
       "    </tr>\n",
       "  </tbody>\n",
       "</table>\n",
       "</div>"
      ],
      "text/plain": [
       "region       East    North    South     West\n",
       "in-store                                    \n",
       "In-Store  10999.0  15997.0      NaN  12994.0\n",
       "Online     7001.0      NaN  19994.0  12994.0"
      ]
     },
     "execution_count": 36,
     "metadata": {},
     "output_type": "execute_result"
    }
   ],
   "source": [
    "data_count_region = data_2.groupby(['in-store', 'region']).size().unstack()\n",
    "data_count_region"
   ]
  },
  {
   "cell_type": "markdown",
   "metadata": {},
   "source": [
    "From the above chart and table we can see clear evidence that customers in the North have only bought in-store, and customers in the South have only bought online. This may be due to the age demographics of the regions, with region 2 (the South) having the only population of the Silent Generation who only buy online. Another factors to consider is the store locations (are they easily accessible?)."
   ]
  },
  {
   "cell_type": "markdown",
   "metadata": {},
   "source": [
    "#### Amount"
   ]
  },
  {
   "cell_type": "code",
   "execution_count": 37,
   "metadata": {
    "ExecuteTime": {
     "end_time": "2023-07-28T11:05:55.576297Z",
     "start_time": "2023-07-28T11:05:54.914488Z"
    },
    "code_folding": []
   },
   "outputs": [
    {
     "data": {
      "text/plain": [
       "Text(0.5, 1.0, 'A chart showing how the number of transactions changes per amount spent')"
      ]
     },
     "execution_count": 37,
     "metadata": {},
     "output_type": "execute_result"
    },
    {
     "data": {
      "image/png": "[encoded data removed]",
      "text/plain": [
       "<Figure size 576x576 with 1 Axes>"
      ]
     },
     "metadata": {
      "needs_background": "light"
     },
     "output_type": "display_data"
    }
   ],
   "source": [
    "#Creating an Amounts column to convert amount into categorical data\n",
    "data_amounts = data.copy()\n",
    "data_amounts['Amounts'] = pd.cut(x = data['amount'], bins = [0,500,1000,1500,2000,2500,3001], labels = ['0-499','500-999', '1000,1499', '1500-1999', '2000-2499', '2500-3000'])\n",
    "\n",
    "#Cleaning data to show online/in-store and the region name\n",
    "data_amounts = data_amounts.replace({'in-store': online_dict,\n",
    "                                         'region': region_dict})\n",
    "\n",
    "plt.figure(figsize=(8,8))\n",
    "sns.histplot(shrink= .9, x=\"Amounts\", hue=\"in-store\", data=data_amounts, stat=\"count\", multiple=\"dodge\")\n",
    "plt.title('A chart showing how the number of transactions changes per amount spent')"
   ]
  },
  {
   "cell_type": "markdown",
   "metadata": {
    "hide_input": true
   },
   "source": [
    "We can see most transactions with amounts £0-500 are made online, whereas transactions £500-999 are mostly made in-store. All other amounts are fairly evenly distributed up to £2500-3000 where all (a small number) of transactions are made online."
   ]
  },
  {
   "cell_type": "markdown",
   "metadata": {},
   "source": [
    "### Conclusion"
   ]
  },
  {
   "cell_type": "markdown",
   "metadata": {},
   "source": [
    "North: \n",
    "- Expected age distribution. \n",
    "- Only purchase in store with average spend per item of ~ £160.  \n",
    "- 17.8% of total revenue.\n",
    "\n",
    "<br>\n",
    "\n",
    "South: \n",
    "- Oldest population of the regions.\n",
    "- Only purchase online with average spend of ~£55 per item.\n",
    "- 7.5% of total revenue\n",
    "\n",
    "<br>\n",
    "\n",
    "East:\n",
    "- Second oldest population, but with an expected age distribution.\n",
    "- Purchase more in-store than online, second most expensive region at ~£210 per item.\n",
    "- 24.7% of total revenue\n",
    "\n",
    "<br>\n",
    "\n",
    "West:\n",
    "- Youngest population\n",
    "- Purchase equally in-store and online, most expensive region at ~ £270 per item\n",
    "- 49.9% of revenue (most of all)\n",
    "\n",
    "<br>\n",
    "\n",
    "Other findings:\n",
    "- All regions have a same mean number of items per transaction, but the amounts vary a lot. Could be completley different items being sold or at very different prices.\n",
    "- Online and in-store prices also varies vastly, with the average price for an item online in the South ~ £50 but closer to ~ £350 in the East and West.\n",
    "- Gen X, Millenials and Gen X all purchase more in-store than online, Baby Boomers & Silent Generation purchase more online\n",
    "- Transactions between £0-500 are mostly done online, and £500-1000 mostly done in store."
   ]
  },
  {
   "cell_type": "markdown",
   "metadata": {},
   "source": [
    "## Can we predict the region of a customer based on their demographics?"
   ]
  },
  {
   "cell_type": "markdown",
   "metadata": {},
   "source": [
    "We will start by defining metrics to evaluate our models.\n",
    "\n",
    "<br>\n",
    "\n",
    "Precision:\n",
    "- How many instances classified as positive actually were? I.e The ratio of True Positives to the sum of True Positives and False Positives TP/(TP+FP)\n",
    "<br>\n",
    "\n",
    "Recall:\n",
    "- For all instances that were actually positive, how many were classified correctly? I.e The ratio of True positives to the sum of True Positives and False Negatives TP/(TP+FN)\n",
    "<br>\n",
    "\n",
    "F1-score:\n",
    "- The harmonic mean of Precision and Recall, a representation of both scores.\n",
    "<br>\n",
    "\n",
    "Support:\n",
    "- The number of instances of each class used."
   ]
  },
  {
   "cell_type": "code",
   "execution_count": 38,
   "metadata": {
    "ExecuteTime": {
     "end_time": "2023-07-28T11:08:41.643087Z",
     "start_time": "2023-07-28T11:05:55.578177Z"
    },
    "scrolled": true
   },
   "outputs": [
    {
     "name": "stdout",
     "output_type": "stream",
     "text": [
      "Cross validation score for accuracy on predicting region\n",
      "Random Forest Classifier 0.5849159849885951\n",
      "Decision Tree Classifier 0.5620600135779846\n",
      "Gradient Boosting Classifier 0.643281380474906\n",
      "K Nearest Neighbour Classifier 0.5044199475916468\n"
     ]
    }
   ],
   "source": [
    "#Creating classifier algos for cross validation\n",
    "algos_Class = []\n",
    "algos_Class.append(('Random Forest Classifier',RandomForestClassifier()))\n",
    "algos_Class.append(('Decision Tree Classifier', DecisionTreeClassifier()))\n",
    "algos_Class.append(('Gradient Boosting Classifier', GradientBoostingClassifier()))\n",
    "algos_Class.append(('K Nearest Neighbour Classifier', KNeighborsClassifier())) \n",
    "#algos_Class.append(('X Gradient Boosting Classifier', XGBClassifier()))\n",
    "\n",
    "#Cross validation for predicting Generation in region 1\n",
    "indep_vars = data.drop(columns = ['region','Generation'])\n",
    "dep_var = data['region']\n",
    "\n",
    "results_region = []\n",
    "names_region = []\n",
    "print('Cross validation score for accuracy on predicting region')\n",
    "for name, model in algos_Class:\n",
    "    result = cross_val_score(model, indep_vars, dep_var, cv=3,scoring = 'accuracy')\n",
    "    names_region.append(name)\n",
    "    results_region.append(result)\n",
    "#print cross val scores\n",
    "for i in range(len(names_region)):\n",
    "    print(names_region[i],results_region[i].mean())\n"
   ]
  },
  {
   "cell_type": "code",
   "execution_count": 39,
   "metadata": {
    "ExecuteTime": {
     "end_time": "2023-07-28T11:09:18.983401Z",
     "start_time": "2023-07-28T11:08:41.645624Z"
    },
    "scrolled": true
   },
   "outputs": [
    {
     "name": "stdout",
     "output_type": "stream",
     "text": [
      "              precision    recall  f1-score   support\n",
      "\n",
      "           1       0.40      0.52      0.45      4838\n",
      "           2       0.90      1.00      0.95      5979\n",
      "           3       0.53      0.23      0.32      5391\n",
      "           4       0.65      0.73      0.69      7786\n",
      "\n",
      "    accuracy                           0.64     23994\n",
      "   macro avg       0.62      0.62      0.60     23994\n",
      "weighted avg       0.63      0.64      0.62     23994\n",
      "\n"
     ]
    }
   ],
   "source": [
    "#Train/Test Split\n",
    "indep_vars_train, indep_vars_test, dep_var_train, dep_var_test = train_test_split(indep_vars, dep_var, test_size = .30, random_state = 123)\n",
    "\n",
    "#Modeling (Classification) of\n",
    "algo_region = GradientBoostingClassifier()  \n",
    "model_region = algo_region.fit(indep_vars_train,dep_var_train)\n",
    "\n",
    "#Predictions\n",
    "preds_region = model_region.predict(indep_vars_test)\n",
    "#Save the accuracy\n",
    "region_accuracy= classification_report(dep_var_test, preds_region)\n",
    "#Print accuracy\n",
    "print(region_accuracy)"
   ]
  },
  {
   "cell_type": "code",
   "execution_count": 41,
   "metadata": {
    "ExecuteTime": {
     "end_time": "2023-07-28T11:09:19.499344Z",
     "start_time": "2023-07-28T11:09:19.002626Z"
    }
   },
   "outputs": [
    {
     "data": {
      "text/plain": [
       "<AxesSubplot:>"
      ]
     },
     "execution_count": 41,
     "metadata": {},
     "output_type": "execute_result"
    },
    {
     "data": {
      "image/png": "[encoded data removed]",
      "text/plain": [
       "<Figure size 432x288 with 2 Axes>"
      ]
     },
     "metadata": {
      "needs_background": "light"
     },
     "output_type": "display_data"
    }
   ],
   "source": [
    "reg_conf_matrix = confusion_matrix(dep_var_test, preds_region)\n",
    "sns.heatmap(reg_conf_matrix,annot=True)"
   ]
  },
  {
   "cell_type": "markdown",
   "metadata": {},
   "source": [
    "Our model is very good at predicting region 2, with a precision of ~90%, but relatviely low scores for regions 1 and 3.\n",
    "\n",
    "We can see in the below the importance of our features. As discovered in the EDA, 'items' had no variation between the regions and this is shown by the almost 0 importance."
   ]
  },
  {
   "cell_type": "code",
   "execution_count": 42,
   "metadata": {
    "ExecuteTime": {
     "end_time": "2023-07-28T11:09:19.769402Z",
     "start_time": "2023-07-28T11:09:19.502889Z"
    }
   },
   "outputs": [
    {
     "data": {
      "text/plain": [
       "Text(0, 0.5, 'Feature Importance Score')"
      ]
     },
     "execution_count": 42,
     "metadata": {},
     "output_type": "execute_result"
    },
    {
     "data": {
      "image/png": "[encoded data removed]",
      "text/plain": [
       "<Figure size 432x288 with 1 Axes>"
      ]
     },
     "metadata": {
      "needs_background": "light"
     },
     "output_type": "display_data"
    }
   ],
   "source": [
    "#Plotting the feature importance of our model\n",
    "feat_importance=pd.Series(algo_region.feature_importances_,indep_vars_train.columns)\n",
    "feat_importance.plot(kind='bar', title='Feature Importances')\n",
    "plt.ylabel('Feature Importance Score')"
   ]
  },
  {
   "cell_type": "markdown",
   "metadata": {},
   "source": [
    "## Can we predict the generation of a customer in a region based on other demographic data?"
   ]
  },
  {
   "cell_type": "markdown",
   "metadata": {},
   "source": [
    "### Region 1 (North)"
   ]
  },
  {
   "cell_type": "code",
   "execution_count": 44,
   "metadata": {
    "ExecuteTime": {
     "end_time": "2023-07-28T11:38:54.781669Z",
     "start_time": "2023-07-28T11:38:20.353575Z"
    },
    "scrolled": false
   },
   "outputs": [
    {
     "name": "stdout",
     "output_type": "stream",
     "text": [
      "Cross validation score for accuracy on predicting age in the North (1)\n",
      "Random Forest Classifier 0.30749578684751816\n",
      "Decision Tree Classifier 0.3064330094336823\n",
      "Gradient Boosting Classifier 0.3699443869968055\n",
      "K Nearest Neighbour Classifier 0.3114956617459259\n"
     ]
    }
   ],
   "source": [
    "#Cross validation for predicting Generation in region 1\n",
    "X1 = region_1_data.drop(columns = ['age','Generation'])\n",
    "y1 = region_1_data['Generation']\n",
    "\n",
    "results = []\n",
    "names = []\n",
    "print('Cross validation score for accuracy on predicting age in the North (1)')\n",
    "for name, model in algos_Class:\n",
    "    result = cross_val_score(model, X1, y1, cv=3,scoring = 'accuracy')\n",
    "    names.append(name)\n",
    "    results.append(result)\n",
    "#print cross val scores\n",
    "for i in range(len(names)):\n",
    "    print(names[i],results[i].mean())"
   ]
  },
  {
   "cell_type": "code",
   "execution_count": 45,
   "metadata": {
    "ExecuteTime": {
     "end_time": "2023-07-28T11:39:01.693652Z",
     "start_time": "2023-07-28T11:38:54.783240Z"
    },
    "code_folding": [],
    "scrolled": true
   },
   "outputs": [
    {
     "name": "stdout",
     "output_type": "stream",
     "text": [
      "              precision    recall  f1-score   support\n",
      "\n",
      " Baby Boomer       0.35      0.02      0.04       786\n",
      "       Gen X       0.32      0.18      0.23      1628\n",
      "       Gen Z       0.04      0.00      0.00       565\n",
      "  Millennial       0.38      0.78      0.51      1821\n",
      "\n",
      "    accuracy                           0.36      4800\n",
      "   macro avg       0.27      0.25      0.20      4800\n",
      "weighted avg       0.31      0.36      0.28      4800\n",
      "\n"
     ]
    }
   ],
   "source": [
    "#Train/Test Split\n",
    "X1_train, X1_test, y1_train, y1_test = train_test_split(X1, y1, test_size = .30, random_state = 123)\n",
    "\n",
    "#Modeling (Classification) of\n",
    "algo = GradientBoostingClassifier()  \n",
    "model = algo.fit(X1_train,y1_train)\n",
    "\n",
    "#Predictions\n",
    "preds = model.predict(X1_test)\n",
    "\n",
    "#Save the accuracy\n",
    "x1_accuracy= classification_report(y1_test, preds)\n",
    "#Print accuracy\n",
    "print(x1_accuracy)"
   ]
  },
  {
   "cell_type": "markdown",
   "metadata": {},
   "source": [
    "The above table shows the classification report, this tells us how accurately we can predict a customers age from the other data we have. We can see varying rates of precision for the different generations but an accuracy rate of 37% across all generations. We can conclude that in region 1 we are unlikely to be able to correctly predict the generation of a customer through their transaction data."
   ]
  },
  {
   "cell_type": "markdown",
   "metadata": {},
   "source": [
    "### Region 2 (South)"
   ]
  },
  {
   "cell_type": "code",
   "execution_count": 46,
   "metadata": {
    "ExecuteTime": {
     "end_time": "2023-07-28T11:39:47.512496Z",
     "start_time": "2023-07-28T11:39:01.696255Z"
    },
    "scrolled": true
   },
   "outputs": [
    {
     "name": "stdout",
     "output_type": "stream",
     "text": [
      "Cross validation score for accuracy on predicting Generation in the South (2)\n",
      "Random Forest Classifier 0.27683317888295605\n",
      "Decision Tree Classifier 0.272982111073987\n",
      "Gradient Boosting Classifier 0.3239471257370165\n",
      "K Nearest Neighbour Classifier 0.3021905611456886\n"
     ]
    }
   ],
   "source": [
    "#Cross validation for predicting Generation in region 2\n",
    "X2 = region_2_data.drop(columns = ['age','Generation'])\n",
    "y2= region_2_data['Generation']\n",
    "\n",
    "results_2 = []\n",
    "names_2 = []\n",
    "print('Cross validation score for accuracy on predicting Generation in the South (2)')\n",
    "for name, model in algos_Class:\n",
    "    result = cross_val_score(model, X2, y2, cv=3,scoring = 'accuracy')\n",
    "    names_2.append(name)\n",
    "    results_2.append(result)\n",
    "#print cross val scores\n",
    "for i in range(len(names_2)):\n",
    "    print(names_2[i],results_2[i].mean())"
   ]
  },
  {
   "cell_type": "code",
   "execution_count": 50,
   "metadata": {
    "ExecuteTime": {
     "end_time": "2023-07-28T11:45:38.225959Z",
     "start_time": "2023-07-28T11:45:30.225216Z"
    },
    "code_folding": [],
    "scrolled": true
   },
   "outputs": [
    {
     "name": "stdout",
     "output_type": "stream",
     "text": [
      "                       precision    recall  f1-score   support\n",
      "\n",
      "          Baby Boomer       0.33      0.90      0.48      1967\n",
      "                Gen X       0.26      0.06      0.10      1710\n",
      "           Millennial       0.24      0.03      0.05      1476\n",
      "The Silent Generation       0.17      0.00      0.01       846\n",
      "\n",
      "             accuracy                           0.32      5999\n",
      "            macro avg       0.25      0.25      0.16      5999\n",
      "         weighted avg       0.27      0.32      0.20      5999\n",
      "\n"
     ]
    }
   ],
   "source": [
    "#Train/Test Split\n",
    "X2_train, X2_test, y2_train, y2_test = train_test_split(X2, y2, test_size = .30, random_state = 123)\n",
    "\n",
    "#Modeling (Classification) of\n",
    "algo_2 = GradientBoostingClassifier()  \n",
    "model_2 = algo_2.fit(X2_train,y2_train)\n",
    "\n",
    "#Predictions\n",
    "preds_2 = model_2.predict(X2_test)\n",
    "\n",
    "X2_accuracy= classification_report(y2_test, preds_2)\n",
    "#Print accuracy\n",
    "print(X2_accuracy)"
   ]
  },
  {
   "cell_type": "markdown",
   "metadata": {},
   "source": [
    "Region 2 has a lower accuracy rate than Region 1 at 32%, meaning we are less likely to be able to predict the age generation of region 2 than region 1. Baby Boomers we have a 47% chance of predicting and the Silent Generation a very low score indeed, suprising given the only Silent Generation demographic from our data is in Region 2."
   ]
  },
  {
   "cell_type": "markdown",
   "metadata": {},
   "source": [
    "### Region 3 (East)"
   ]
  },
  {
   "cell_type": "code",
   "execution_count": 51,
   "metadata": {
    "ExecuteTime": {
     "end_time": "2023-07-28T12:03:37.711250Z",
     "start_time": "2023-07-28T12:03:00.381482Z"
    },
    "scrolled": true
   },
   "outputs": [
    {
     "name": "stdout",
     "output_type": "stream",
     "text": [
      "Cross validation score for accuracy on predicting Generation in the East (3)\n",
      "Random Forest Classifier 0.3069444444444444\n",
      "Decision Tree Classifier 0.3068333333333333\n",
      "Gradient Boosting Classifier 0.3377222222222222\n",
      "K Nearest Neighbour Classifier 0.31016666666666665\n"
     ]
    }
   ],
   "source": [
    "#Cross validation for predicting Generation in region 3\n",
    "X3 = region_3_data.drop(columns = ['age','Generation'])\n",
    "y3= region_3_data['Generation']\n",
    "\n",
    "results_3 = []\n",
    "names_3 = []\n",
    "print('Cross validation score for accuracy on predicting Generation in the East (3)')\n",
    "\n",
    "for name, model in algos_Class:\n",
    "    result = cross_val_score(model, X3, y3, cv=3,scoring = 'accuracy')\n",
    "    names_3.append(name)\n",
    "    results_3.append(result)\n",
    "#print cross val scores\n",
    "for i in range(len(names_3)):\n",
    "    print(names_3[i],results_3[i].mean())\n"
   ]
  },
  {
   "cell_type": "code",
   "execution_count": 52,
   "metadata": {
    "ExecuteTime": {
     "end_time": "2023-07-28T12:03:45.078279Z",
     "start_time": "2023-07-28T12:03:37.714049Z"
    },
    "code_folding": [],
    "scrolled": true
   },
   "outputs": [
    {
     "ename": "NotFittedError",
     "evalue": "This KNeighborsClassifier instance is not fitted yet. Call 'fit' with appropriate arguments before using this estimator.",
     "output_type": "error",
     "traceback": [
      "\u001b[1;31m---------------------------------------------------------------------------\u001b[0m",
      "\u001b[1;31mNotFittedError\u001b[0m                            Traceback (most recent call last)",
      "\u001b[1;32m<ipython-input-52-6b96f46a4645>\u001b[0m in \u001b[0;36m<module>\u001b[1;34m\u001b[0m\n\u001b[0;32m      7\u001b[0m \u001b[1;33m\u001b[0m\u001b[0m\n\u001b[0;32m      8\u001b[0m \u001b[1;31m#Predictions\u001b[0m\u001b[1;33m\u001b[0m\u001b[1;33m\u001b[0m\u001b[1;33m\u001b[0m\u001b[0m\n\u001b[1;32m----> 9\u001b[1;33m \u001b[0mpreds_3\u001b[0m \u001b[1;33m=\u001b[0m \u001b[0mmodel\u001b[0m\u001b[1;33m.\u001b[0m\u001b[0mpredict\u001b[0m\u001b[1;33m(\u001b[0m\u001b[0mX3_test\u001b[0m\u001b[1;33m)\u001b[0m\u001b[1;33m\u001b[0m\u001b[1;33m\u001b[0m\u001b[0m\n\u001b[0m\u001b[0;32m     10\u001b[0m \u001b[1;33m\u001b[0m\u001b[0m\n\u001b[0;32m     11\u001b[0m \u001b[0mx3_accuracy\u001b[0m\u001b[1;33m=\u001b[0m \u001b[0mclassification_report\u001b[0m\u001b[1;33m(\u001b[0m\u001b[0my3_test\u001b[0m\u001b[1;33m,\u001b[0m \u001b[0mpreds_3\u001b[0m\u001b[1;33m)\u001b[0m\u001b[1;33m\u001b[0m\u001b[1;33m\u001b[0m\u001b[0m\n",
      "\u001b[1;32m~\\anaconda3\\lib\\site-packages\\sklearn\\neighbors\\_classification.py\u001b[0m in \u001b[0;36mpredict\u001b[1;34m(self, X)\u001b[0m\n\u001b[0;32m    232\u001b[0m             \u001b[1;31m# In that case, we do not need the distances to perform\u001b[0m\u001b[1;33m\u001b[0m\u001b[1;33m\u001b[0m\u001b[1;33m\u001b[0m\u001b[0m\n\u001b[0;32m    233\u001b[0m             \u001b[1;31m# the weighting so we do not compute them.\u001b[0m\u001b[1;33m\u001b[0m\u001b[1;33m\u001b[0m\u001b[1;33m\u001b[0m\u001b[0m\n\u001b[1;32m--> 234\u001b[1;33m             \u001b[0mneigh_ind\u001b[0m \u001b[1;33m=\u001b[0m \u001b[0mself\u001b[0m\u001b[1;33m.\u001b[0m\u001b[0mkneighbors\u001b[0m\u001b[1;33m(\u001b[0m\u001b[0mX\u001b[0m\u001b[1;33m,\u001b[0m \u001b[0mreturn_distance\u001b[0m\u001b[1;33m=\u001b[0m\u001b[1;32mFalse\u001b[0m\u001b[1;33m)\u001b[0m\u001b[1;33m\u001b[0m\u001b[1;33m\u001b[0m\u001b[0m\n\u001b[0m\u001b[0;32m    235\u001b[0m             \u001b[0mneigh_dist\u001b[0m \u001b[1;33m=\u001b[0m \u001b[1;32mNone\u001b[0m\u001b[1;33m\u001b[0m\u001b[1;33m\u001b[0m\u001b[0m\n\u001b[0;32m    236\u001b[0m         \u001b[1;32melse\u001b[0m\u001b[1;33m:\u001b[0m\u001b[1;33m\u001b[0m\u001b[1;33m\u001b[0m\u001b[0m\n",
      "\u001b[1;32m~\\anaconda3\\lib\\site-packages\\sklearn\\neighbors\\_base.py\u001b[0m in \u001b[0;36mkneighbors\u001b[1;34m(self, X, n_neighbors, return_distance)\u001b[0m\n\u001b[0;32m    782\u001b[0m                [2]]...)\n\u001b[0;32m    783\u001b[0m         \"\"\"\n\u001b[1;32m--> 784\u001b[1;33m         \u001b[0mcheck_is_fitted\u001b[0m\u001b[1;33m(\u001b[0m\u001b[0mself\u001b[0m\u001b[1;33m)\u001b[0m\u001b[1;33m\u001b[0m\u001b[1;33m\u001b[0m\u001b[0m\n\u001b[0m\u001b[0;32m    785\u001b[0m \u001b[1;33m\u001b[0m\u001b[0m\n\u001b[0;32m    786\u001b[0m         \u001b[1;32mif\u001b[0m \u001b[0mn_neighbors\u001b[0m \u001b[1;32mis\u001b[0m \u001b[1;32mNone\u001b[0m\u001b[1;33m:\u001b[0m\u001b[1;33m\u001b[0m\u001b[1;33m\u001b[0m\u001b[0m\n",
      "\u001b[1;32m~\\anaconda3\\lib\\site-packages\\sklearn\\utils\\validation.py\u001b[0m in \u001b[0;36mcheck_is_fitted\u001b[1;34m(estimator, attributes, msg, all_or_any)\u001b[0m\n\u001b[0;32m   1388\u001b[0m \u001b[1;33m\u001b[0m\u001b[0m\n\u001b[0;32m   1389\u001b[0m     \u001b[1;32mif\u001b[0m \u001b[1;32mnot\u001b[0m \u001b[0mfitted\u001b[0m\u001b[1;33m:\u001b[0m\u001b[1;33m\u001b[0m\u001b[1;33m\u001b[0m\u001b[0m\n\u001b[1;32m-> 1390\u001b[1;33m         \u001b[1;32mraise\u001b[0m \u001b[0mNotFittedError\u001b[0m\u001b[1;33m(\u001b[0m\u001b[0mmsg\u001b[0m \u001b[1;33m%\u001b[0m \u001b[1;33m{\u001b[0m\u001b[1;34m\"name\"\u001b[0m\u001b[1;33m:\u001b[0m \u001b[0mtype\u001b[0m\u001b[1;33m(\u001b[0m\u001b[0mestimator\u001b[0m\u001b[1;33m)\u001b[0m\u001b[1;33m.\u001b[0m\u001b[0m__name__\u001b[0m\u001b[1;33m}\u001b[0m\u001b[1;33m)\u001b[0m\u001b[1;33m\u001b[0m\u001b[1;33m\u001b[0m\u001b[0m\n\u001b[0m\u001b[0;32m   1391\u001b[0m \u001b[1;33m\u001b[0m\u001b[0m\n\u001b[0;32m   1392\u001b[0m \u001b[1;33m\u001b[0m\u001b[0m\n",
      "\u001b[1;31mNotFittedError\u001b[0m: This KNeighborsClassifier instance is not fitted yet. Call 'fit' with appropriate arguments before using this estimator."
     ]
    }
   ],
   "source": [
    "#Train/Test Split\n",
    "X3_train, X3_test, y3_train, y3_test = train_test_split(X3, y3, test_size = .30, random_state = 123)\n",
    "\n",
    "#Modeling (Classification) of\n",
    "algo_3 = GradientBoostingClassifier()  \n",
    "model_3 = algo_3.fit(X3_train,y3_train)\n",
    "\n",
    "#Predictions\n",
    "preds_3 = model.predict(X3_test)\n",
    "\n",
    "x3_accuracy= classification_report(y3_test, preds_3)\n",
    "#Print accuracy\n",
    "print(x3_accuracy)"
   ]
  },
  {
   "cell_type": "markdown",
   "metadata": {},
   "source": [
    "Similarly low accuracy rate in Region 3, with an accuracy rate of 34%. Gen X has a higher predictive rate than all other generations at 44%, which is still very low."
   ]
  },
  {
   "cell_type": "markdown",
   "metadata": {},
   "source": [
    "### Region 4 (West)"
   ]
  },
  {
   "cell_type": "code",
   "execution_count": null,
   "metadata": {
    "ExecuteTime": {
     "end_time": "2023-07-28T12:03:45.081649Z",
     "start_time": "2023-07-28T12:03:00.384Z"
    },
    "scrolled": true
   },
   "outputs": [],
   "source": [
    "#Cross validation for predicting Generation in region 4\n",
    "X4 = region_4_data.drop(columns = ['age','Generation'])\n",
    "y4= region_4_data['Generation']\n",
    "\n",
    "results_4 = []\n",
    "names_4 = []\n",
    "print('Cross validation score for accuracy on predicting Generation in the West (4)')\n",
    "\n",
    "for name, model in algos_Class:\n",
    "    result = cross_val_score(model, X4, y4, cv=3,scoring = 'accuracy')\n",
    "    names_4.append(name)\n",
    "    results_4.append(result)\n",
    "#print cross val scores\n",
    "for i in range(len(names_4)):\n",
    "    print(names_4[i],results_4[i].mean())"
   ]
  },
  {
   "cell_type": "code",
   "execution_count": null,
   "metadata": {
    "ExecuteTime": {
     "end_time": "2023-07-28T12:03:45.083750Z",
     "start_time": "2023-07-28T12:03:00.387Z"
    },
    "code_folding": []
   },
   "outputs": [],
   "source": [
    "#Train/Test Split\n",
    "X4_train, X4_test, y4_train, y4_test = train_test_split(X4, y4, test_size = .30, random_state = 123)\n",
    "\n",
    "#Modeling (Classification) of\n",
    "algo_4 = GradientBoostingClassifier()  \n",
    "model_4 = algo_4.fit(X4_train,y4_train)\n",
    "\n",
    "#Predictions\n",
    "preds_4 = model.predict(X4_test)\n",
    "\n",
    "x4_accuracy= classification_report(y4_test, preds_4)\n",
    "#Print accuracy\n",
    "print(x4_accuracy)"
   ]
  },
  {
   "cell_type": "markdown",
   "metadata": {},
   "source": [
    "We see an accuracy rate of 41% in Region 4, the highest of all Regions, which is still very low. Millennials here are the most likely to be predicted at 55%.\n",
    "\n",
    "<br>\n",
    "\n",
    "To conclude, it is very unlikely that we can accurately predict the age of a customer in a region based on the other transactional data we have.  Our models can predict with a accuracy between 32% and 41%, which is a little better than guessing at 25%."
   ]
  },
  {
   "cell_type": "markdown",
   "metadata": {},
   "source": [
    "## Conclusion"
   ]
  },
  {
   "cell_type": "markdown",
   "metadata": {},
   "source": [
    "- Gradient Boosting CLassification has varying accuracy predicting the region of a customer, with very high accuracy in the South ~100%, to low in the North ~40%. However, 40% is still better than a random guess.\n",
    "\n",
    "<br>\n",
    "\n",
    "- The classification models we have tested have not been able accurately predict the generation of a customer based on their other transactional data, with an accuracy rate between 32% and 41% for the four regions. "
   ]
  }
 ],
 "metadata": {
  "kernelspec": {
   "display_name": "Python 3",
   "language": "python",
   "name": "python3"
  },
  "language_info": {
   "codemirror_mode": {
    "name": "ipython",
    "version": 3
   },
   "file_extension": ".py",
   "mimetype": "text/x-python",
   "name": "python",
   "nbconvert_exporter": "python",
   "pygments_lexer": "ipython3",
   "version": "3.8.5"
  },
  "toc": {
   "base_numbering": 1,
   "nav_menu": {},
   "number_sections": true,
   "sideBar": true,
   "skip_h1_title": false,
   "title_cell": "Table of Contents",
   "title_sidebar": "Contents",
   "toc_cell": false,
   "toc_position": {
    "height": "calc(100% - 180px)",
    "left": "10px",
    "top": "150px",
    "width": "273.188px"
   },
   "toc_section_display": true,
   "toc_window_display": true
  },
  "varInspector": {
   "cols": {
    "lenName": 16,
    "lenType": 16,
    "lenVar": 40
   },
   "kernels_config": {
    "python": {
     "delete_cmd_postfix": "",
     "delete_cmd_prefix": "del ",
     "library": "var_list.py",
     "varRefreshCmd": "print(var_dic_list())"
    },
    "r": {
     "delete_cmd_postfix": ") ",
     "delete_cmd_prefix": "rm(",
     "library": "var_list.r",
     "varRefreshCmd": "cat(var_dic_list()) "
    }
   },
   "types_to_exclude": [
    "module",
    "function",
    "builtin_function_or_method",
    "instance",
    "_Feature"
   ],
   "window_display": false
  }
 },
 "nbformat": 4,
 "nbformat_minor": 4
}
